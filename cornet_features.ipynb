{
  "nbformat": 4,
  "nbformat_minor": 0,
  "metadata": {
    "colab": {
      "name": "algonauts-CORnet-features.ipynb",
      "provenance": [],
      "collapsed_sections": [],
      "toc_visible": true
    },
    "kernelspec": {
      "name": "python3",
      "display_name": "Python 3"
    },
    "accelerator": "GPU"
  },
  "cells": [
    {
      "cell_type": "markdown",
      "metadata": {
        "id": "nrOqVKJeysuV",
        "colab_type": "text"
      },
      "source": [
        "# CORnet PredNet feature extraction\n",
        "\n",
        "In this notebook we extract representations from pre-trained CORnet models. We also generate RDM submissions for fMRI and MEG data."
      ]
    },
    {
      "cell_type": "code",
      "metadata": {
        "id": "oRh5U1u_ava3",
        "colab_type": "code",
        "outputId": "eb927b1a-0f41-4dfc-eb60-e4f1b401b622",
        "colab": {
          "base_uri": "https://localhost:8080/",
          "height": 34
        }
      },
      "source": [
        "from google.colab import drive\n",
        "drive.mount('/content/gdrive',force_remount=True)"
      ],
      "execution_count": 0,
      "outputs": [
        {
          "output_type": "stream",
          "text": [
            "Mounted at /content/gdrive\n"
          ],
          "name": "stdout"
        }
      ]
    },
    {
      "cell_type": "code",
      "metadata": {
        "id": "37wYr4GNbmFc",
        "colab_type": "code",
        "colab": {}
      },
      "source": [
        "!wget -O algonauts.zip -q https://github.com/thefonseca/algonauts/archive/master.zip\n",
        "!unzip -q algonauts.zip -d /content/\n",
        "!mv algonauts-master/ algonauts-github\n",
        "!mv algonauts-github/* /content/\n",
        "\n",
        "!unzip -q gdrive/My\\ Drive/algonauts/algonauts-master.zip -d /content/\n",
        "!unzip -q gdrive/My\\ Drive/algonauts/algonauts-dataset.zip -d /content/\n",
        "!cp algonauts-master/Feature_Extract/create_RDMs.py /content/\n",
        "#!cp prednet/*.py /content/\n",
        "#!cp -r gdrive/My\\ Drive/algonauts/prednet-models /content/"
      ],
      "execution_count": 0,
      "outputs": []
    },
    {
      "cell_type": "markdown",
      "metadata": {
        "id": "ICxad_2ZjSs_",
        "colab_type": "text"
      },
      "source": [
        "## Get CORnet code"
      ]
    },
    {
      "cell_type": "code",
      "metadata": {
        "id": "8kt1b_NWjPHr",
        "colab_type": "code",
        "colab": {}
      },
      "source": [
        "!wget -O cornet.zip -q https://github.com/dicarlolab/CORnet/archive/master.zip\n",
        "!unzip -q cornet.zip -d /content/"
      ],
      "execution_count": 0,
      "outputs": []
    },
    {
      "cell_type": "code",
      "metadata": {
        "id": "ZWCbc4Mn65N1",
        "colab_type": "code",
        "colab": {}
      },
      "source": [
        "!mkdir -p cornet-feats/92images/cornet-s\n",
        "!mkdir -p cornet-feats/118images/cornet-s"
      ],
      "execution_count": 0,
      "outputs": []
    },
    {
      "cell_type": "code",
      "metadata": {
        "id": "icOmD4INqG9B",
        "colab_type": "code",
        "outputId": "00c994a7-dbb8-4c6f-dabe-593b45033335",
        "colab": {
          "base_uri": "https://localhost:8080/",
          "height": 51
        }
      },
      "source": [
        "!pip install fire"
      ],
      "execution_count": 0,
      "outputs": [
        {
          "output_type": "stream",
          "text": [
            "\u001b[?25l\r\u001b[K     |████▎                           | 10kB 19.1MB/s eta 0:00:01\r\u001b[K     |████████▋                       | 20kB 1.6MB/s eta 0:00:01\r\u001b[K     |████████████▉                   | 30kB 2.4MB/s eta 0:00:01\r\u001b[K     |█████████████████▏              | 40kB 1.6MB/s eta 0:00:01\r\u001b[K     |█████████████████████▍          | 51kB 2.0MB/s eta 0:00:01\r\u001b[K     |█████████████████████████▊      | 61kB 2.4MB/s eta 0:00:01\r\u001b[K     |██████████████████████████████  | 71kB 2.8MB/s eta 0:00:01\r\u001b[K     |████████████████████████████████| 81kB 3.0MB/s \n",
            "\u001b[?25h  Building wheel for fire (setup.py) ... \u001b[?25l\u001b[?25hdone\n"
          ],
          "name": "stdout"
        }
      ]
    },
    {
      "cell_type": "markdown",
      "metadata": {
        "id": "03mNd84rtXOf",
        "colab_type": "text"
      },
      "source": [
        "### Small fix\n",
        "For the feature extraction to work we need to edit the `run.py` file and change the `_store_feats` hook from:\n",
        "\n",
        "```\n",
        "def _store_feats(layer, inp, output):\n",
        "        \"\"\"An ugly but effective way of accessing intermediate model features\n",
        "        \"\"\"\n",
        "        _model_feats.append(np.reshape(output, (len(output), -1)).numpy())\n",
        "```\n",
        "\n",
        "to the following:\n",
        "\n",
        "\n",
        "```\n",
        "def _store_feats(layer, inp, output):\n",
        "        \"\"\"An ugly but effective way of accessing intermediate model features\n",
        "        \"\"\"\n",
        "        _model_feats.append(output.view(len(output), -1).cpu().numpy())\n",
        "```"
      ]
    },
    {
      "cell_type": "markdown",
      "metadata": {
        "id": "QOHBnDlMGXbi",
        "colab_type": "text"
      },
      "source": [
        "## Features for the 92 images dataset"
      ]
    },
    {
      "cell_type": "code",
      "metadata": {
        "id": "utBZuazTojpW",
        "colab_type": "code",
        "outputId": "1b17635d-7107-431a-bac7-1dc16bde6dcd",
        "colab": {
          "base_uri": "https://localhost:8080/",
          "height": 68
        }
      },
      "source": [
        "!cd /content/CORnet-master/ && python run.py test --model S --layer decoder \\\n",
        "--sublayer avgpool --data_path /content/Training_Data/92_Image_Set/92images/ \\\n",
        "-o /content/cornet-feats/92images/ --ngpus 1"
      ],
      "execution_count": 0,
      "outputs": [
        {
          "output_type": "stream",
          "text": [
            "Downloading: \"https://s3.amazonaws.com/cornet-models/cornet_z-5c427c9c.pth\" to /root/.cache/torch/checkpoints/cornet_z-5c427c9c.pth\n",
            "100% 15.8M/15.8M [00:02<00:00, 7.04MB/s]\n",
            "100% 92/92 [00:00<00:00, 153.70it/s]\n"
          ],
          "name": "stdout"
        }
      ]
    },
    {
      "cell_type": "code",
      "metadata": {
        "id": "qNkYiO0SvYdc",
        "colab_type": "code",
        "outputId": "d6bedb8f-9944-41d2-94a2-9033f754929d",
        "colab": {
          "base_uri": "https://localhost:8080/",
          "height": 34
        }
      },
      "source": [
        "!cd /content/CORnet-master/ && python run.py test --model S --layer V1 \\\n",
        "--sublayer output --data_path /content/Training_Data/92_Image_Set/92images/ \\\n",
        "-o /content/cornet-feats/92images/ --ngpus 1"
      ],
      "execution_count": 0,
      "outputs": [
        {
          "output_type": "stream",
          "text": [
            "100% 92/92 [00:00<00:00, 157.25it/s]\n"
          ],
          "name": "stdout"
        }
      ]
    },
    {
      "cell_type": "code",
      "metadata": {
        "id": "h9Ba6AQKv_Ts",
        "colab_type": "code",
        "outputId": "2dcaeb16-0db6-4b82-d56c-59928872cd47",
        "colab": {
          "base_uri": "https://localhost:8080/",
          "height": 34
        }
      },
      "source": [
        "!cd /content/CORnet-master/ && python run.py test --model S --layer V2 \\\n",
        "--sublayer output --data_path /content/Training_Data/92_Image_Set/92images/ \\\n",
        "-o /content/cornet-feats/92images/ --ngpus 1"
      ],
      "execution_count": 0,
      "outputs": [
        {
          "output_type": "stream",
          "text": [
            "100% 92/92 [00:00<00:00, 160.83it/s]\n"
          ],
          "name": "stdout"
        }
      ]
    },
    {
      "cell_type": "code",
      "metadata": {
        "id": "Aer4_GKlwIVF",
        "colab_type": "code",
        "outputId": "c19f4813-1306-47a1-c191-0cd4f3e2bf09",
        "colab": {
          "base_uri": "https://localhost:8080/",
          "height": 34
        }
      },
      "source": [
        "!cd /content/CORnet-master/ && python run.py test --model S --layer V4 \\\n",
        "--sublayer output --data_path /content/Training_Data/92_Image_Set/92images/ \\\n",
        "-o /content/cornet-feats/92images/ --ngpus 1"
      ],
      "execution_count": 0,
      "outputs": [
        {
          "output_type": "stream",
          "text": [
            "100% 92/92 [00:00<00:00, 131.72it/s]\n"
          ],
          "name": "stdout"
        }
      ]
    },
    {
      "cell_type": "code",
      "metadata": {
        "id": "6b4Zd1HAwJpl",
        "colab_type": "code",
        "outputId": "c6423a9c-e718-453a-fd0f-5041ffcec626",
        "colab": {
          "base_uri": "https://localhost:8080/",
          "height": 34
        }
      },
      "source": [
        "!cd /content/CORnet-master/ && python run.py test --model S --layer IT \\\n",
        "--sublayer output --data_path /content/Training_Data/92_Image_Set/92images/ \\\n",
        "-o /content/cornet-feats/92images/ --ngpus 1"
      ],
      "execution_count": 0,
      "outputs": [
        {
          "output_type": "stream",
          "text": [
            "100% 92/92 [00:00<00:00, 135.45it/s]\n"
          ],
          "name": "stdout"
        }
      ]
    },
    {
      "cell_type": "markdown",
      "metadata": {
        "id": "VkRNp6-MGcdp",
        "colab_type": "text"
      },
      "source": [
        "## Features for the 118 images dataset"
      ]
    },
    {
      "cell_type": "code",
      "metadata": {
        "id": "vs6J2U2iGf2I",
        "colab_type": "code",
        "outputId": "8285bfa9-a479-4a4d-9ecb-e46450993b46",
        "colab": {
          "base_uri": "https://localhost:8080/",
          "height": 34
        }
      },
      "source": [
        "!cd /content/CORnet-master/ && python run.py test --model S --layer decoder \\\n",
        "--sublayer avgpool --data_path /content/Training_Data/118_Image_Set/118images/ \\\n",
        "-o /content/cornet-feats/118images/ --ngpus 1"
      ],
      "execution_count": 0,
      "outputs": [
        {
          "output_type": "stream",
          "text": [
            "100% 118/118 [00:00<00:00, 129.04it/s]\n"
          ],
          "name": "stdout"
        }
      ]
    },
    {
      "cell_type": "code",
      "metadata": {
        "id": "0garJUOcGvIg",
        "colab_type": "code",
        "outputId": "54f6bf20-a4cf-4229-fcd3-f429415dd489",
        "colab": {
          "base_uri": "https://localhost:8080/",
          "height": 34
        }
      },
      "source": [
        "!cd /content/CORnet-master/ && python run.py test --model S --layer V1 \\\n",
        "--sublayer output --data_path /content/Training_Data/118_Image_Set/118images/ \\\n",
        "-o /content/cornet-feats/118images/ --ngpus 1"
      ],
      "execution_count": 0,
      "outputs": [
        {
          "output_type": "stream",
          "text": [
            "100% 118/118 [00:00<00:00, 137.79it/s]\n"
          ],
          "name": "stdout"
        }
      ]
    },
    {
      "cell_type": "code",
      "metadata": {
        "id": "iR-rJaYIG1Wz",
        "colab_type": "code",
        "outputId": "78bfa6c3-990d-469a-abe3-a55d030df8ff",
        "colab": {
          "base_uri": "https://localhost:8080/",
          "height": 34
        }
      },
      "source": [
        "!cd /content/CORnet-master/ && python run.py test --model S --layer V2 \\\n",
        "--sublayer output --data_path /content/Training_Data/118_Image_Set/118images/ \\\n",
        "-o /content/cornet-feats/118images/ --ngpus 1"
      ],
      "execution_count": 0,
      "outputs": [
        {
          "output_type": "stream",
          "text": [
            "100% 118/118 [00:00<00:00, 141.87it/s]\n"
          ],
          "name": "stdout"
        }
      ]
    },
    {
      "cell_type": "code",
      "metadata": {
        "id": "F8POvqhnG2Ap",
        "colab_type": "code",
        "outputId": "a7d98b4c-ab15-4912-e219-c82fa1349f1e",
        "colab": {
          "base_uri": "https://localhost:8080/",
          "height": 34
        }
      },
      "source": [
        "!cd /content/CORnet-master/ && python run.py test --model S --layer V4 \\\n",
        "--sublayer output --data_path /content/Training_Data/118_Image_Set/118images/ \\\n",
        "-o /content/cornet-feats/118images/ --ngpus 1"
      ],
      "execution_count": 0,
      "outputs": [
        {
          "output_type": "stream",
          "text": [
            "100% 118/118 [00:00<00:00, 136.99it/s]\n"
          ],
          "name": "stdout"
        }
      ]
    },
    {
      "cell_type": "code",
      "metadata": {
        "id": "EkEYLdlFG2aF",
        "colab_type": "code",
        "outputId": "c7d32402-34dc-4bc2-80fe-93b161943134",
        "colab": {
          "base_uri": "https://localhost:8080/",
          "height": 34
        }
      },
      "source": [
        "!cd /content/CORnet-master/ && python run.py test --model S --layer IT \\\n",
        "--sublayer output --data_path /content/Training_Data/118_Image_Set/118images/ \\\n",
        "-o /content/cornet-feats/118images/ --ngpus 1"
      ],
      "execution_count": 0,
      "outputs": [
        {
          "output_type": "stream",
          "text": [
            "100% 118/118 [00:00<00:00, 135.07it/s]\n"
          ],
          "name": "stdout"
        }
      ]
    },
    {
      "cell_type": "code",
      "metadata": {
        "id": "eE74ghFku3pO",
        "colab_type": "code",
        "outputId": "605f0de8-8182-4fe3-c224-7c4d190a1adb",
        "colab": {
          "base_uri": "https://localhost:8080/",
          "height": 34
        }
      },
      "source": [
        "import numpy as np\n",
        "np.load('/content/cornet-feats/92images/CORnet-S_V1_output_feats.npy').shape"
      ],
      "execution_count": 0,
      "outputs": [
        {
          "output_type": "execute_result",
          "data": {
            "text/plain": [
              "(92, 200704)"
            ]
          },
          "metadata": {
            "tags": []
          },
          "execution_count": 22
        }
      ]
    },
    {
      "cell_type": "code",
      "metadata": {
        "id": "Z_GPPDWWeZZH",
        "colab_type": "code",
        "colab": {}
      },
      "source": [
        "!cp -r /content/cornet-feats/ /content/gdrive/My\\ Drive/cornet-feats-$(date +%Y-%m-%dT%H:%M:%S)"
      ],
      "execution_count": 0,
      "outputs": []
    },
    {
      "cell_type": "markdown",
      "metadata": {
        "id": "prPFO0n-bprn",
        "colab_type": "text"
      },
      "source": [
        "## Generate RDMs"
      ]
    },
    {
      "cell_type": "code",
      "metadata": {
        "id": "JYFUHMUikStP",
        "colab_type": "code",
        "colab": {}
      },
      "source": [
        "import create_RDMs\n",
        "import os\n",
        "import glob\n",
        "import scipy.io as sio\n",
        "import zipfile\n",
        "\n",
        "\n",
        "def create_rdm(save_dir, feat_dir, dist):\n",
        "    \"\"\"\n",
        "    Main function to create RDM from activations\n",
        "    Input:\n",
        "    feat_dir: Directory containing activations generated using generate_features.py\n",
        "    save_dir : directory to save the computed RDM\n",
        "    dist : dist used for computing RDM (e.g. 1-Pearson's R)\n",
        "\n",
        "    Output (in submission format):\n",
        "    The model RDMs for each layer are saved in\n",
        "        save_dir/layer_name/submit_fMRI.mat to compare with fMRI RDMs\n",
        "        save_dir/layer_name/submit_MEG.mat to compare with MEG RDMs\n",
        "    \"\"\"\n",
        "\n",
        "    # get list of layers and number of conditions(images) for RDM\n",
        "    # layer_list, num_condns = get_layers_ncondns(feat_dir)\n",
        "    feat_files = glob.glob(feat_dir + \"/*feats.npy\")\n",
        "    \n",
        "    layer_list = []\n",
        "    for feat_file in feat_files:\n",
        "        feat_file = os.path.basename(feat_file)\n",
        "        layer_list.append(feat_file.replace('_feats.npy', ''))\n",
        "        \n",
        "    print(layer_list)\n",
        "    cwd = os.getcwd() \n",
        "    print(save_dir, feat_dir, cwd)\n",
        "            \n",
        "    # loops over layers and create RDM for each layer\n",
        "    for feat_file in feat_files:\n",
        "        layer_id = os.path.basename(feat_file).replace('_feats.npy', '')\n",
        "        feats = np.load(feat_file)\n",
        "        num_condns = len(feats)\n",
        "        \n",
        "        os.chdir(cwd)\n",
        "        # RDM is num_condnsxnum_condns matrix, initialized with zeros\n",
        "        RDM = np.zeros((num_condns, num_condns))\n",
        "\n",
        "        #save path for RDMs in  challenge submission format\n",
        "        print(f'Processing layer {layer_id}...')\n",
        "        \n",
        "        \n",
        "        RDM_dir = os.path.join(save_dir, layer_id)\n",
        "        # print(RDM_dir, save_dir, os.path.join(save_dir, layer_id))\n",
        "        if not os.path.exists(RDM_dir):\n",
        "            os.makedirs(RDM_dir)\n",
        "            \n",
        "        RDM_filename_meg = os.path.join(RDM_dir,'submit_meg.mat')\n",
        "        RDM_filename_fmri = os.path.join(RDM_dir,'submit_fmri.mat')\n",
        "        RDM_filename_meg_zip = os.path.join(RDM_dir,'submit_meg.zip')\n",
        "        RDM_filename_fmri_zip = os.path.join(RDM_dir,'submit_fmri.zip')\n",
        "        #RDM loop\n",
        "        for i in range(num_condns):\n",
        "            for j in range(num_condns):\n",
        "                #get feature for image index i and j\n",
        "                feature_i = feats[i]\n",
        "                feature_j = feats[j]\n",
        "                \n",
        "                # compute distance 1-Pearson's R\n",
        "                if dist == 'pearson':\n",
        "                    RDM[i,j] = 1-np.corrcoef(feature_i,feature_j)[0][1]\n",
        "                else:\n",
        "                    print(\"The\", dist, \"distance measure not implemented, please request through issues\")\n",
        "\n",
        "        #saving RDMs in challenge submission format\n",
        "        rdm_fmri={}\n",
        "        rdm_meg={}\n",
        "        rdm_fmri['EVC_RDMs'] = RDM\n",
        "        rdm_fmri['IT_RDMs'] = RDM\n",
        "        rdm_meg['MEG_RDMs_late'] = RDM\n",
        "        rdm_meg['MEG_RDMs_early'] = RDM\n",
        "        sio.savemat(RDM_filename_fmri, rdm_fmri)\n",
        "        sio.savemat(RDM_filename_meg, rdm_meg)\n",
        "\n",
        "        #creating zipped file for submission\n",
        "        zipfmri = zipfile.ZipFile(RDM_filename_fmri_zip, 'w')\n",
        "        zipmeg = zipfile.ZipFile(RDM_filename_meg_zip, 'w')\n",
        "        os.chdir(RDM_dir)\n",
        "        zipfmri.write('submit_fmri.mat')\n",
        "        zipmeg.write('submit_meg.mat')\n",
        "        zipfmri.close()\n",
        "        zipmeg.close()\n",
        "        \n",
        "    os.chdir(cwd)\n"
      ],
      "execution_count": 0,
      "outputs": []
    },
    {
      "cell_type": "code",
      "metadata": {
        "id": "0ES6QEZAgTN6",
        "colab_type": "code",
        "outputId": "2f66b8e1-7489-41cc-88e2-e5fd97d852f1",
        "colab": {
          "base_uri": "https://localhost:8080/",
          "height": 326
        }
      },
      "source": [
        "feat_dir = '/content/cornet-feats/92images/'\n",
        "rdm_dir = '/content/results/rdms/92images/pearson'\n",
        "create_rdm(rdm_dir, feat_dir, 'pearson')"
      ],
      "execution_count": 0,
      "outputs": [
        {
          "output_type": "stream",
          "text": [
            "['CORnet-R_V2_output', 'CORnet-Z_V2_output', 'CORnet-Z_V4_output', 'CORnet-S_IT_output', 'CORnet-R_V4_output', 'CORnet-Z_V1_output', 'CORnet-R_V1_output', 'CORnet-S_V1_output', 'CORnet-S_V4_output', 'CORnet-R_IT_output', 'CORnet-S_V2_output', 'CORnet-R_decoder_avgpool', 'CORnet-Z_decoder_avgpool', 'CORnet-Z_IT_output', 'CORnet-S_decoder_avgpool']\n",
            "/content/results/rdms/92images/pearson /content/cornet-feats/92images/ /content\n",
            "Processing layer CORnet-R_V2_output...\n",
            "Processing layer CORnet-Z_V2_output...\n",
            "Processing layer CORnet-Z_V4_output...\n",
            "Processing layer CORnet-S_IT_output...\n",
            "Processing layer CORnet-R_V4_output...\n",
            "Processing layer CORnet-Z_V1_output...\n",
            "Processing layer CORnet-R_V1_output...\n",
            "Processing layer CORnet-S_V1_output...\n",
            "Processing layer CORnet-S_V4_output...\n",
            "Processing layer CORnet-R_IT_output...\n",
            "Processing layer CORnet-S_V2_output...\n",
            "Processing layer CORnet-R_decoder_avgpool...\n",
            "Processing layer CORnet-Z_decoder_avgpool...\n",
            "Processing layer CORnet-Z_IT_output...\n",
            "Processing layer CORnet-S_decoder_avgpool...\n"
          ],
          "name": "stdout"
        }
      ]
    },
    {
      "cell_type": "code",
      "metadata": {
        "id": "OEqHm_IaoOM7",
        "colab_type": "code",
        "outputId": "b7c87e57-c224-4f08-ad20-e633d7b7e4a2",
        "colab": {
          "base_uri": "https://localhost:8080/",
          "height": 326
        }
      },
      "source": [
        "feat_dir = '/content/cornet-feats/118images/'\n",
        "rdm_dir = '/content/results/rdms/118images/pearson'\n",
        "create_rdm(rdm_dir, feat_dir, 'pearson')"
      ],
      "execution_count": 0,
      "outputs": [
        {
          "output_type": "stream",
          "text": [
            "['CORnet-R_V2_output', 'CORnet-Z_V2_output', 'CORnet-Z_V4_output', 'CORnet-S_IT_output', 'CORnet-R_V4_output', 'CORnet-Z_V1_output', 'CORnet-R_V1_output', 'CORnet-S_V1_output', 'CORnet-S_V4_output', 'CORnet-R_IT_output', 'CORnet-S_V2_output', 'CORnet-R_decoder_avgpool', 'CORnet-Z_decoder_avgpool', 'CORnet-Z_IT_output', 'CORnet-S_decoder_avgpool']\n",
            "/content/results/rdms/118images/pearson /content/cornet-feats/118images/ /content\n",
            "Processing layer CORnet-R_V2_output...\n",
            "Processing layer CORnet-Z_V2_output...\n",
            "Processing layer CORnet-Z_V4_output...\n",
            "Processing layer CORnet-S_IT_output...\n",
            "Processing layer CORnet-R_V4_output...\n",
            "Processing layer CORnet-Z_V1_output...\n",
            "Processing layer CORnet-R_V1_output...\n",
            "Processing layer CORnet-S_V1_output...\n",
            "Processing layer CORnet-S_V4_output...\n",
            "Processing layer CORnet-R_IT_output...\n",
            "Processing layer CORnet-S_V2_output...\n",
            "Processing layer CORnet-R_decoder_avgpool...\n",
            "Processing layer CORnet-Z_decoder_avgpool...\n",
            "Processing layer CORnet-Z_IT_output...\n",
            "Processing layer CORnet-S_decoder_avgpool...\n"
          ],
          "name": "stdout"
        }
      ]
    },
    {
      "cell_type": "code",
      "metadata": {
        "id": "fF56bqZuQQC4",
        "colab_type": "code",
        "colab": {}
      },
      "source": [
        "!cp -r /content/results/rdms /content/gdrive/My\\ Drive/cornet-rdms-$(date +%Y-%m-%dT%H:%M:%S)"
      ],
      "execution_count": 0,
      "outputs": []
    }
  ]
}