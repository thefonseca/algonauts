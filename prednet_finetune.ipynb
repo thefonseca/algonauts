{
  "nbformat": 4,
  "nbformat_minor": 0,
  "metadata": {
    "colab": {
      "name": "algonauts-finetune.ipynb",
      "version": "0.3.2",
      "provenance": [],
      "collapsed_sections": [
        "gLa4UsKlENIy"
      ],
      "toc_visible": true
    },
    "kernelspec": {
      "name": "python3",
      "display_name": "Python 3"
    },
    "accelerator": "GPU"
  },
  "cells": [
    {
      "cell_type": "markdown",
      "metadata": {
        "id": "l_Y_K_n6hz7S",
        "colab_type": "text"
      },
      "source": [
        "# PredNet fine-tuning with IT RDM supervision\n",
        "In this notebook we fine-tune PredNets pre-trained on video data using RDMs from IT area."
      ]
    },
    {
      "cell_type": "code",
      "metadata": {
        "id": "oRh5U1u_ava3",
        "colab_type": "code",
        "outputId": "554231a9-31fb-4747-abb0-a249740598f4",
        "colab": {
          "base_uri": "https://localhost:8080/",
          "height": 229
        }
      },
      "source": [
        "from google.colab import drive\n",
        "drive.mount('/content/gdrive',force_remount=True)"
      ],
      "execution_count": 0,
      "outputs": [
        {
          "output_type": "stream",
          "text": [
            "Go to this URL in a browser: https://accounts.google.com/o/oauth2/auth?client_id=947318989803-6bn6qk8qdgf4n4g3pfee6491hc0brc4i.apps.googleusercontent.com&redirect_uri=urn%3Aietf%3Awg%3Aoauth%3A2.0%3Aoob&scope=email%20https%3A%2F%2Fwww.googleapis.com%2Fauth%2Fdocs.test%20https%3A%2F%2Fwww.googleapis.com%2Fauth%2Fdrive%20https%3A%2F%2Fwww.googleapis.com%2Fauth%2Fdrive.photos.readonly%20https%3A%2F%2Fwww.googleapis.com%2Fauth%2Fpeopleapi.readonly&response_type=code\n",
            "\n",
            "Enter your authorization code:\n",
            "··········\n",
            "Mounted at /content/gdrive\n"
          ],
          "name": "stdout"
        }
      ]
    },
    {
      "cell_type": "markdown",
      "metadata": {
        "id": "3xqS2YkLixai",
        "colab_type": "text"
      },
      "source": [
        "## Copying supporting files"
      ]
    },
    {
      "cell_type": "code",
      "metadata": {
        "id": "37wYr4GNbmFc",
        "colab_type": "code",
        "colab": {}
      },
      "source": [
        "!unzip -q gdrive/My\\ Drive/algonauts/algonauts-master.zip -d /content/\n",
        "!unzip -q gdrive/My\\ Drive/algonauts/algonauts-dataset.zip -d /content/\n",
        "!mv algonauts-master/* /content/\n",
        "!cp Feature_Extract/create_RDMs.py /content/\n",
        "!cp prednet/*.py /content/\n",
        "!cp -r gdrive/My\\ Drive/algonauts/prednet-models /content/"
      ],
      "execution_count": 0,
      "outputs": []
    },
    {
      "cell_type": "code",
      "metadata": {
        "id": "YFMgK3wMdDBy",
        "colab_type": "code",
        "outputId": "5cf5cba8-bf14-4f56-d326-75644b3dee94",
        "colab": {
          "base_uri": "https://localhost:8080/",
          "height": 34
        }
      },
      "source": [
        "import h5py\n",
        "import numpy as np\n",
        "import scipy.io as sio\n",
        "from skimage.measure import block_reduce\n",
        "import matplotlib.pyplot as plt\n",
        "%matplotlib inline\n",
        "from keras.preprocessing import image\n",
        "from skimage.transform import resize\n",
        "from sklearn.model_selection import train_test_split\n",
        "import os\n",
        "import glob\n",
        "import zipfile\n",
        "from tqdm import tqdm\n",
        "from data import DataGenerator\n",
        "np.random.seed(42)"
      ],
      "execution_count": 0,
      "outputs": [
        {
          "output_type": "stream",
          "text": [
            "Using TensorFlow backend.\n"
          ],
          "name": "stderr"
        }
      ]
    },
    {
      "cell_type": "markdown",
      "metadata": {
        "id": "EFyEpdRgeTsN",
        "colab_type": "text"
      },
      "source": [
        "## Methods for loading human fMRI data"
      ]
    },
    {
      "cell_type": "code",
      "metadata": {
        "id": "1v5ChynyeSjp",
        "colab_type": "code",
        "outputId": "eeba158e-a28f-41f4-ce05-03f23581c62a",
        "colab": {
          "base_uri": "https://localhost:8080/",
          "height": 34
        }
      },
      "source": [
        "def loadmat(matfile):\n",
        "    try:\n",
        "        f = h5py.File(matfile)\n",
        "    except (IOError, OSError):\n",
        "        return sio.loadmat(matfile)\n",
        "    else:\n",
        "        return {name: np.transpose(f.get(name)) for name in f.keys()}\n",
        "\n",
        "def loadnpy(npyfile):\n",
        "    return np.load(npyfile)\n",
        "\n",
        "def load(data_file):\n",
        "    root, ext = os.path.splitext(data_file)\n",
        "    return {'.npy': loadnpy,\n",
        "            '.mat': loadmat\n",
        "            }.get(ext, loadnpy)(data_file)\n",
        "\n",
        "human_fmri = loadmat('./Training_Data/118_Image_Set/target_fmri.mat')\n",
        "human_fmri['EVC_RDMs'].shape"
      ],
      "execution_count": 0,
      "outputs": [
        {
          "output_type": "execute_result",
          "data": {
            "text/plain": [
              "(15, 118, 118)"
            ]
          },
          "metadata": {
            "tags": []
          },
          "execution_count": 2
        }
      ]
    },
    {
      "cell_type": "markdown",
      "metadata": {
        "id": "VL_AOMBheeaH",
        "colab_type": "text"
      },
      "source": [
        "## Methods for loading image dataset"
      ]
    },
    {
      "cell_type": "code",
      "metadata": {
        "id": "-PQrkxT8dhZG",
        "colab_type": "code",
        "outputId": "8b2ed125-636a-4634-acc1-bf2577725051",
        "colab": {
          "base_uri": "https://localhost:8080/",
          "height": 286
        }
      },
      "source": [
        "def crop_center(img, cropx, cropy):\n",
        "    x,y,c = img.shape\n",
        "    startx = x//2-(cropx//2)\n",
        "    starty = y//2-(cropy//2)   \n",
        "    return img[startx:startx+cropx,starty:starty+cropy]\n",
        "\n",
        "def resize_img(img, target_size):\n",
        "    ratios = [float(target_size[i]) / img.shape[i] for i in range(len(target_size))]\n",
        "    larger_ratio = max(ratios)\n",
        "    new_shape = [float(larger_ratio) * img.shape[i] for i in range(len(target_size))]\n",
        "    \n",
        "    img = resize(img, (int(np.round(new_shape[0])), \n",
        "                       int(np.round(new_shape[1]))),\n",
        "                 mode='reflect')\n",
        "    \n",
        "    # crop\n",
        "    img = crop_center(img, target_size[0], target_size[1])\n",
        "    return img\n",
        "\n",
        "def load_image(filename, target_size=(256, 256)):\n",
        "    img = image.load_img(filename, target_size=None)\n",
        "    img = image.img_to_array(img)\n",
        "    img = 1./255 * img\n",
        "    img = resize_img(img, target_size=target_size)\n",
        "    return img\n",
        "\n",
        "img = load_image('./Training_Data/118_Image_Set/118images/image_118.jpg')\n",
        "plt.imshow(img)"
      ],
      "execution_count": 0,
      "outputs": [
        {
          "output_type": "execute_result",
          "data": {
            "text/plain": [
              "<matplotlib.image.AxesImage at 0x7fdbd015abe0>"
            ]
          },
          "metadata": {
            "tags": []
          },
          "execution_count": 3
        },
        {
          "output_type": "display_data",
          "data": {
            "image/png": "[encoded data removed]",
            "text/plain": [
              "<Figure size 432x288 with 1 Axes>"
            ]
          },
          "metadata": {
            "tags": []
          }
        }
      ]
    },
    {
      "cell_type": "markdown",
      "metadata": {
        "id": "7Q9TXaAMerGQ",
        "colab_type": "text"
      },
      "source": [
        "## Generator for image pairs and corresponding RDM values"
      ]
    },
    {
      "cell_type": "code",
      "metadata": {
        "id": "HHcsx9andmaC",
        "colab_type": "code",
        "colab": {}
      },
      "source": [
        "def create_rdm_dataset(images_path, rdm_path, data_type):\n",
        "  rdm_y = []\n",
        "  rdm_x = []\n",
        "  \n",
        "  human_rdm = loadmat(rdm_path)[data_type]\n",
        "  if 'MEG' in data_type:\n",
        "    human_rdm = np.mean(human_rdm, 1)\n",
        "  \n",
        "  for sub_idx, subject_rdm in enumerate(human_rdm):\n",
        "      print('Processing subject {} of {} ...'.format(sub_idx+1, len(human_rdm)))\n",
        "\n",
        "      for img_i in range(subject_rdm.shape[0]):\n",
        "          for img_j in range(img_i, subject_rdm.shape[1]):\n",
        "              rdm_y.append(subject_rdm[img_i][img_j])\n",
        "              img_i_path = images_path.format(img_i+1)\n",
        "              img_j_path = images_path.format(img_j+1)\n",
        "              rdm_x.append([img_i_path, img_j_path])\n",
        "\n",
        "  rdm_y = np.array(rdm_y)\n",
        "  rdm_x = np.array(rdm_x)\n",
        "\n",
        "  rdm_shape = human_rdm.shape\n",
        "  expected_samples = (np.prod(rdm_shape) + rdm_shape[0] * rdm_shape[2]) // 2\n",
        "  assert rdm_y.shape[0] == expected_samples, (rdm_y.shape[0], expected_samples)\n",
        "  assert rdm_x.shape[0] == rdm_y.shape[0]\n",
        "  return rdm_x, rdm_y\n",
        "\n",
        "\n",
        "def data_generator(data_x, data_y, batch_size=1, n_timesteps=10, \n",
        "                   shuffle=True, output_mode=None, image_size=(256, 256)):\n",
        "    n_batches = len(data_x) // batch_size\n",
        "    \n",
        "    while True:\n",
        "        if shuffle:\n",
        "            np.random.shuffle(data_x)\n",
        "            np.random.shuffle(data_y)\n",
        "        \n",
        "        for batch_idx in range(n_batches):\n",
        "            batch_x1 = []\n",
        "            batch_x2 = []\n",
        "            batch_y = []\n",
        "            for idx in range(batch_idx*batch_size, (batch_idx+1)*batch_size):\n",
        "                batch_x1.append([load_image(data_x[idx][0], target_size=image_size)] * n_timesteps)\n",
        "                batch_x2.append([load_image(data_x[idx][1], target_size=image_size)] * n_timesteps)\n",
        "                batch_y.append([data_y[idx]])\n",
        "                \n",
        "            batch_x1 = np.array(batch_x1)\n",
        "            batch_x2 = np.array(batch_x2)\n",
        "            batch_y = np.array(batch_y)\n",
        "            \n",
        "            if output_mode is not None and output_mode == 'representation_and_error':\n",
        "                batch_y = {\n",
        "                    'prednet_error': np.zeros(batch_size, np.float32), \n",
        "                    'rdm_prediction': batch_y\n",
        "                }\n",
        "            yield [batch_x1, batch_x2], batch_y\n",
        "            \n",
        "#train_generator = data_generator(train_x, train_y, batch_size=1)\n",
        "#images, labels = next(train_generator)\n",
        "#images[0].shape, labels"
      ],
      "execution_count": 0,
      "outputs": []
    },
    {
      "cell_type": "markdown",
      "metadata": {
        "id": "K2OJMJ2TfSzo",
        "colab_type": "text"
      },
      "source": [
        "## Fine-tuning the model using RDMs"
      ]
    },
    {
      "cell_type": "code",
      "metadata": {
        "id": "b6oTW34-d-SR",
        "colab_type": "code",
        "colab": {}
      },
      "source": [
        "from keras.models import Model\n",
        "from keras.layers import Flatten, Dense, TimeDistributed, LSTM\n",
        "from keras.layers import Input, Masking, Lambda, Dropout\n",
        "from keras.layers import Bidirectional, concatenate, average\n",
        "from keras.callbacks import ModelCheckpoint, CSVLogger, EarlyStopping\n",
        "from keras import backend as K\n",
        "\n",
        "import prednet_model\n",
        "import prednet_rdm\n",
        "import utils\n",
        "\n",
        "\n",
        "def train(config_name, train_x, train_y, val_x, val_y, hidden_dims=[32], \n",
        "          epochs=10, use_multiprocessing=False, workers=1, batch_size=1,\n",
        "          dropout=0.5, stopping_patience=3, base_results_dir='./results',\n",
        "          input_shape=[10, 256, 256, 3], mask_value=None, all_weights_file=None, \n",
        "          data_format=K.image_data_format(), #trainable_layers=None, \n",
        "          **config):\n",
        "    \n",
        "    train_generator = data_generator(train_x, train_y, batch_size=batch_size, \n",
        "                                     output_mode=config['output_mode'])\n",
        "    val_generator = data_generator(val_x, val_y, batch_size=batch_size, \n",
        "                                   output_mode=config['output_mode'])\n",
        "    \n",
        "    results_dir = utils.get_create_results_dir(config_name, base_results_dir)\n",
        "    model = prednet_rdm.create_model(input_shape, hidden_dims, drop_rate=dropout, \n",
        "                                     mask_value=mask_value, **config)\n",
        "    \n",
        "    if all_weights_file:\n",
        "        model.load_weights(all_weights_file, by_name=True)\n",
        "    \n",
        "    if 'model_json_file' not in config and 'model_weights_file' in config:\n",
        "        prednet_model.load_prednet_weights(config['model_weights_file'], \n",
        "                                           model.get_layer('PredNet'))\n",
        "    \n",
        "    checkpoint_path = os.path.join(results_dir, 'weights.hdf5')\n",
        "    csv_path = os.path.join(results_dir, 'model.log')\n",
        "\n",
        "    json_file = os.path.join(results_dir, 'model.json')\n",
        "    json_string = model.to_json()\n",
        "    with open(json_file, \"w\") as f:\n",
        "        f.write(json_string)\n",
        "    \n",
        "    checkpointer = ModelCheckpoint(filepath=checkpoint_path, \n",
        "                                   #monitor='val_rdm_prediction_loss',\n",
        "                                   verbose=1, save_best_only=True)\n",
        "    \n",
        "    csv_logger = CSVLogger(csv_path)\n",
        "    stopper_rdm = EarlyStopping(monitor='val_rdm_prediction_loss', \n",
        "                                patience=stopping_patience, \n",
        "                                verbose=0, mode='auto')\n",
        "    \n",
        "    model.fit_generator(train_generator,\n",
        "                        len(train_x),\n",
        "                        epochs=epochs,\n",
        "                        validation_data=val_generator,\n",
        "                        validation_steps=len(val_x),\n",
        "                        callbacks=[checkpointer, csv_logger, stopper_rdm],\n",
        "                        use_multiprocessing=use_multiprocessing,\n",
        "                        workers=workers)\n",
        "    \n",
        "    model.save(os.path.join(results_dir, 'model.h5'))\n",
        "    weights_path = os.path.join(results_dir, 'prednet_weights.h5')\n",
        "    model.get_layer('PredNet').save_weights(weights_path)\n",
        "    model_json = model.get_layer('PredNet').to_json()\n",
        "    json_path = os.path.join(results_dir, 'prednet_model.json')\n",
        "    with open(json_path, 'w') as json_file:\n",
        "        json_file.write(model_json)"
      ],
      "execution_count": 0,
      "outputs": []
    },
    {
      "cell_type": "markdown",
      "metadata": {
        "id": "COW8kUVkD2TM",
        "colab_type": "text"
      },
      "source": [
        "## Fine-tuning PredNet using fMRI RDMs"
      ]
    },
    {
      "cell_type": "code",
      "metadata": {
        "id": "vT2u5jur8b9L",
        "colab_type": "code",
        "colab": {}
      },
      "source": [
        "config = {\n",
        "    'n_timesteps': 10,\n",
        "    'batch_size': 1,\n",
        "    'stateful': False,\n",
        "    'input_width': 256,\n",
        "    'input_height': 256,\n",
        "    'input_channels': 3,\n",
        "    'stack_sizes': (48, 96, 192, 192),\n",
        "    'rescale': 1./255,\n",
        "    'shuffle': True,\n",
        "    'workers': 1,\n",
        "    'epochs': 1,\n",
        "    'train': True,\n",
        "    'freeze_prednet': False,\n",
        "    'output_mode': 'representation_and_error',\n",
        "    'prediction_error_weight': 0.9,\n",
        "    'rdm_error_weight': 0.1,\n",
        "    #'trainable_layers': [0, 1, 2], # list of PredNet trainable layers\n",
        "    #'trainable_units': ['a', 'ahat'], #['i', 'f', 'c', 'o'],\n",
        "    'model_json_file': '/content/prednet-models/prednet_moments__model__4_layers_epoch_1/model.json', \n",
        "    'model_weights_file': '/content/prednet-models/prednet_moments__model__4_layers_epoch_1/weights.hdf5',\n",
        "    'base_results_dir': '/content/results/',\n",
        "}\n",
        "\n",
        "images_path = '/content/Training_Data/118_Image_Set/118images/image_{:03d}.jpg'\n",
        "rdm_path = '/content/Training_Data/118_Image_Set/target_fmri.mat'"
      ],
      "execution_count": 0,
      "outputs": []
    },
    {
      "cell_type": "code",
      "metadata": {
        "id": "XTkitpINAp3z",
        "colab_type": "code",
        "outputId": "50946dd6-5e6a-4fe2-a02b-767c109d47b8",
        "colab": {
          "base_uri": "https://localhost:8080/",
          "height": 1000
        }
      },
      "source": [
        "rdm_path = '/content/Training_Data/118_Image_Set/target_fmri.mat'\n",
        "it_x, it_y = create_rdm_dataset(images_path, rdm_path, 'IT_RDMs')\n",
        "train_x, val_x, train_y, val_y = train_test_split(it_x, it_y, test_size=0.1, \n",
        "                                                  random_state=17)\n",
        "\n",
        "idx = np.random.randint(len(train_x), size=10000)\n",
        "sample_train_x = train_x[idx]\n",
        "sample_train_y = train_y[idx]\n",
        "\n",
        "idx = np.random.randint(len(val_x), size=len(sample_train_x)//10)\n",
        "sample_val_x = val_x[idx]\n",
        "sample_val_y = val_y[idx]\n",
        "\n",
        "train('prednet_moments_fmri_it_rdm_10000', sample_train_x, sample_train_y, \n",
        "      sample_val_x, sample_val_y, **config)"
      ],
      "execution_count": 0,
      "outputs": [
        {
          "output_type": "stream",
          "text": [
            "Processing subject 1 of 15 ...\n",
            "Processing subject 2 of 15 ...\n",
            "Processing subject 3 of 15 ...\n",
            "Processing subject 4 of 15 ...\n",
            "Processing subject 5 of 15 ...\n",
            "Processing subject 6 of 15 ...\n",
            "Processing subject 7 of 15 ...\n",
            "Processing subject 8 of 15 ...\n",
            "Processing subject 9 of 15 ...\n",
            "Processing subject 10 of 15 ...\n",
            "Processing subject 11 of 15 ...\n",
            "Processing subject 12 of 15 ...\n",
            "Processing subject 13 of 15 ...\n",
            "Processing subject 14 of 15 ...\n",
            "Processing subject 15 of 15 ...\n",
            "Loading model: /content/prednet-models/prednet_moments__model__4_layers_epoch_1/weights.hdf5\n",
            "PredNet trainable layers: None\n",
            "PredNet trainable units: None\n",
            "Layer a_0 trainable params: 2640\n",
            "Layer a_1 trainable params: 83040\n",
            "Layer a_2 trainable params: 331968\n",
            "Layer a_3 trainable params: 663744\n",
            "Layer ahat_0 trainable params: 84\n",
            "Layer ahat_1 trainable params: 20784\n",
            "Layer ahat_2 trainable params: 83040\n",
            "Layer ahat_3 trainable params: 331968\n",
            "Layer ahat_4 trainable params: 331968\n",
            "Layer c_0 trainable params: 1542\n",
            "Layer c_1 trainable params: 103728\n",
            "Layer c_2 trainable params: 414816\n",
            "Layer c_3 trainable params: 1327296\n",
            "Layer c_4 trainable params: 995520\n",
            "Layer f_0 trainable params: 1542\n",
            "Layer f_1 trainable params: 103728\n",
            "Layer f_2 trainable params: 414816\n",
            "Layer f_3 trainable params: 1327296\n",
            "Layer f_4 trainable params: 995520\n",
            "Layer i_0 trainable params: 1542\n",
            "Layer i_1 trainable params: 103728\n",
            "Layer i_2 trainable params: 414816\n",
            "Layer i_3 trainable params: 1327296\n",
            "Layer i_4 trainable params: 995520\n",
            "Layer o_0 trainable params: 1542\n",
            "Layer o_1 trainable params: 103728\n",
            "Layer o_2 trainable params: 414816\n",
            "Layer o_3 trainable params: 1327296\n",
            "Layer o_4 trainable params: 995520\n",
            "PredNet trainable params: 13220844\n",
            "PredNet non-trainable params: 0\n",
            "PredNet trainable layers: None\n",
            "PredNet trainable units: None\n",
            "Layer a_0 trainable params: 2640\n",
            "Layer a_1 trainable params: 83040\n",
            "Layer a_2 trainable params: 331968\n",
            "Layer a_3 trainable params: 663744\n",
            "Layer ahat_0 trainable params: 84\n",
            "Layer ahat_1 trainable params: 20784\n",
            "Layer ahat_2 trainable params: 83040\n",
            "Layer ahat_3 trainable params: 331968\n",
            "Layer ahat_4 trainable params: 331968\n",
            "Layer c_0 trainable params: 1542\n",
            "Layer c_1 trainable params: 103728\n",
            "Layer c_2 trainable params: 414816\n",
            "Layer c_3 trainable params: 1327296\n",
            "Layer c_4 trainable params: 995520\n",
            "Layer f_0 trainable params: 1542\n",
            "Layer f_1 trainable params: 103728\n",
            "Layer f_2 trainable params: 414816\n",
            "Layer f_3 trainable params: 1327296\n",
            "Layer f_4 trainable params: 995520\n",
            "Layer i_0 trainable params: 1542\n",
            "Layer i_1 trainable params: 103728\n",
            "Layer i_2 trainable params: 414816\n",
            "Layer i_3 trainable params: 1327296\n",
            "Layer i_4 trainable params: 995520\n",
            "Layer o_0 trainable params: 1542\n",
            "Layer o_1 trainable params: 103728\n",
            "Layer o_2 trainable params: 414816\n",
            "Layer o_3 trainable params: 1327296\n",
            "Layer o_4 trainable params: 995520\n",
            "PredNet trainable params: 13220844\n",
            "PredNet non-trainable params: 0\n",
            "Layer 0 shape: (256, 256, 3) (196608)\n",
            "Layer 1 shape: (128, 128, 48) (786432)\n",
            "Layer 2 shape: (64, 64, 96) (393216)\n",
            "Layer 3 shape: (32, 32, 192) (196608)\n",
            "Layer 4 shape: (16, 16, 192) (49152)\n",
            "Layer 0 shape: (256, 256, 3) (196608)\n",
            "Layer 1 shape: (128, 128, 48) (786432)\n",
            "Layer 2 shape: (64, 64, 96) (393216)\n",
            "Layer 3 shape: (32, 32, 192) (196608)\n",
            "Layer 4 shape: (16, 16, 192) (49152)\n",
            "Layer 0 shape: (256, 256, 3) (196608)\n",
            "Layer 1 shape: (128, 128, 48) (786432)\n",
            "Layer 2 shape: (64, 64, 96) (393216)\n",
            "Layer 3 shape: (32, 32, 192) (196608)\n",
            "Layer 4 shape: (16, 16, 192) (49152)\n",
            "Compiling model with loss weights:\n",
            " {'prednet_error': 0.9, 'rdm_prediction': 0.1}\n",
            "__________________________________________________________________________________________________\n",
            "Layer (type)                    Output Shape         Param #     Connected to                     \n",
            "==================================================================================================\n",
            "image_a (InputLayer)            (None, 10, 256, 256, 0                                            \n",
            "__________________________________________________________________________________________________\n",
            "image_b (InputLayer)            (None, 10, 256, 256, 0                                            \n",
            "__________________________________________________________________________________________________\n",
            "PredNet (Model)                 (None, 10, 1622021)  13220844    image_a[0][0]                    \n",
            "                                                                 image_b[0][0]                    \n",
            "__________________________________________________________________________________________________\n",
            "crop_error_a (Lambda)           (None, 10, 5)        0           PredNet[1][0]                    \n",
            "__________________________________________________________________________________________________\n",
            "crop_error_b (Lambda)           (None, 10, 5)        0           PredNet[2][0]                    \n",
            "__________________________________________________________________________________________________\n",
            "crop_rep_a (Lambda)             (None, 10, 1622016)  0           PredNet[1][0]                    \n",
            "__________________________________________________________________________________________________\n",
            "crop_rep_b (Lambda)             (None, 10, 1622016)  0           PredNet[2][0]                    \n",
            "__________________________________________________________________________________________________\n",
            "time_distributed_5 (TimeDistrib (None, 10, 1)        6           crop_error_a[0][0]               \n",
            "__________________________________________________________________________________________________\n",
            "time_distributed_6 (TimeDistrib (None, 10, 1)        6           crop_error_b[0][0]               \n",
            "__________________________________________________________________________________________________\n",
            "crop_last_rep_a (Lambda)        (None, 10, 49152)    0           crop_rep_a[0][0]                 \n",
            "__________________________________________________________________________________________________\n",
            "crop_last_rep_b (Lambda)        (None, 10, 49152)    0           crop_rep_b[0][0]                 \n",
            "__________________________________________________________________________________________________\n",
            "flatten_7 (Flatten)             (None, 10)           0           time_distributed_5[0][0]         \n",
            "__________________________________________________________________________________________________\n",
            "flatten_8 (Flatten)             (None, 10)           0           time_distributed_6[0][0]         \n",
            "__________________________________________________________________________________________________\n",
            "lstm (Model)                    (None, 32)           6295680     crop_last_rep_a[0][0]            \n",
            "                                                                 crop_last_rep_b[0][0]            \n",
            "__________________________________________________________________________________________________\n",
            "dense_10 (Dense)                (None, 1)            11          flatten_7[0][0]                  \n",
            "__________________________________________________________________________________________________\n",
            "dense_12 (Dense)                (None, 1)            11          flatten_8[0][0]                  \n",
            "__________________________________________________________________________________________________\n",
            "image_pair_representation (Conc (None, 64)           0           lstm[1][0]                       \n",
            "                                                                 lstm[2][0]                       \n",
            "__________________________________________________________________________________________________\n",
            "prednet_error (Average)         (None, 1)            0           dense_10[0][0]                   \n",
            "                                                                 dense_12[0][0]                   \n",
            "__________________________________________________________________________________________________\n",
            "rdm_prediction (Dense)          (None, 1)            65          image_pair_representation[0][0]  \n",
            "==================================================================================================\n",
            "Total params: 19,516,623\n",
            "Trainable params: 19,516,589\n",
            "Non-trainable params: 34\n",
            "__________________________________________________________________________________________________\n",
            "Epoch 1/1\n",
            "10000/10000 [==============================] - 14085s 1s/step - loss: 0.0108 - prednet_error_loss: 0.0013 - rdm_prediction_loss: 0.0961 - prednet_error_mean_absolute_error: 0.0013 - prednet_error_mean_squared_error: 4.7225e-06 - rdm_prediction_mean_absolute_error: 0.0961 - rdm_prediction_mean_squared_error: 0.0186 - val_loss: 0.0102 - val_prednet_error_loss: 5.5976e-04 - val_rdm_prediction_loss: 0.0967 - val_prednet_error_mean_absolute_error: 5.5976e-04 - val_prednet_error_mean_squared_error: 3.2141e-07 - val_rdm_prediction_mean_absolute_error: 0.0967 - val_rdm_prediction_mean_squared_error: 0.0190\n",
            "\n",
            "Epoch 00001: val_loss improved from inf to 0.01017, saving model to /content/results/prednet_moments_fmri_it_rdm_10000/weights.hdf5\n"
          ],
          "name": "stdout"
        }
      ]
    },
    {
      "cell_type": "code",
      "metadata": {
        "id": "Rt4LwMR0wEiB",
        "colab_type": "code",
        "colab": {}
      },
      "source": [
        "!cp -r ./results gdrive/My\\ Drive/prednet-finetuned-models-$(date +%Y-%m-%dT%H:%M:%S)"
      ],
      "execution_count": 0,
      "outputs": []
    },
    {
      "cell_type": "markdown",
      "metadata": {
        "id": "gLa4UsKlENIy",
        "colab_type": "text"
      },
      "source": [
        "## Fine-tuning PredNet using MEG RDMs\n",
        "This does not seem to work well...."
      ]
    },
    {
      "cell_type": "code",
      "metadata": {
        "id": "cVz9XEq87_Fi",
        "colab_type": "code",
        "outputId": "f57ba8d9-47ad-43c6-8ce5-490fd60735a3",
        "colab": {
          "base_uri": "https://localhost:8080/",
          "height": 1000
        }
      },
      "source": [
        "rdm_path = '/content/Training_Data/118_Image_Set/target_meg.mat'\n",
        "meg_x, meg_y = create_rdm_dataset(images_path, rdm_path, 'MEG_RDMs_late')\n",
        "train_x, val_x, train_y, val_y = train_test_split(meg_x, meg_y, test_size=0.1, \n",
        "                                                  random_state=17)\n",
        "\n",
        "idx = np.random.randint(len(train_x), size=10000)\n",
        "sample_train_x = train_x[idx]\n",
        "sample_train_y = train_y[idx]\n",
        "\n",
        "idx = np.random.randint(len(val_x), size=len(sample_train_x)//10)\n",
        "sample_val_x = val_x[idx]\n",
        "sample_val_y = val_y[idx]\n",
        "\n",
        "train('prednet_moments_meg_late_rdm_10000', sample_train_x, sample_train_y, \n",
        "      sample_val_x, sample_val_y, **config)"
      ],
      "execution_count": 0,
      "outputs": [
        {
          "output_type": "stream",
          "text": [
            "Processing subject 1 of 15 ...\n",
            "Processing subject 2 of 15 ...\n",
            "Processing subject 3 of 15 ...\n",
            "Processing subject 4 of 15 ...\n",
            "Processing subject 5 of 15 ...\n",
            "Processing subject 6 of 15 ...\n",
            "Processing subject 7 of 15 ...\n",
            "Processing subject 8 of 15 ...\n",
            "Processing subject 9 of 15 ...\n",
            "Processing subject 10 of 15 ...\n",
            "Processing subject 11 of 15 ...\n",
            "Processing subject 12 of 15 ...\n",
            "Processing subject 13 of 15 ...\n",
            "Processing subject 14 of 15 ...\n",
            "Processing subject 15 of 15 ...\n",
            "Loading model: /content/prednet-models/prednet_moments__model__4_layers_epoch_1/weights.hdf5\n",
            "PredNet trainable layers: None\n",
            "PredNet trainable units: None\n",
            "Layer a_0 trainable params: 2640\n",
            "Layer a_1 trainable params: 83040\n",
            "Layer a_2 trainable params: 331968\n",
            "Layer a_3 trainable params: 663744\n",
            "Layer ahat_0 trainable params: 84\n",
            "Layer ahat_1 trainable params: 20784\n",
            "Layer ahat_2 trainable params: 83040\n",
            "Layer ahat_3 trainable params: 331968\n",
            "Layer ahat_4 trainable params: 331968\n",
            "Layer c_0 trainable params: 1542\n",
            "Layer c_1 trainable params: 103728\n",
            "Layer c_2 trainable params: 414816\n",
            "Layer c_3 trainable params: 1327296\n",
            "Layer c_4 trainable params: 995520\n",
            "Layer f_0 trainable params: 1542\n",
            "Layer f_1 trainable params: 103728\n",
            "Layer f_2 trainable params: 414816\n",
            "Layer f_3 trainable params: 1327296\n",
            "Layer f_4 trainable params: 995520\n",
            "Layer i_0 trainable params: 1542\n",
            "Layer i_1 trainable params: 103728\n",
            "Layer i_2 trainable params: 414816\n",
            "Layer i_3 trainable params: 1327296\n",
            "Layer i_4 trainable params: 995520\n",
            "Layer o_0 trainable params: 1542\n",
            "Layer o_1 trainable params: 103728\n",
            "Layer o_2 trainable params: 414816\n",
            "Layer o_3 trainable params: 1327296\n",
            "Layer o_4 trainable params: 995520\n",
            "PredNet trainable params: 13220844\n",
            "PredNet non-trainable params: 0\n",
            "PredNet trainable layers: None\n",
            "PredNet trainable units: None\n",
            "Layer a_0 trainable params: 2640\n",
            "Layer a_1 trainable params: 83040\n",
            "Layer a_2 trainable params: 331968\n",
            "Layer a_3 trainable params: 663744\n",
            "Layer ahat_0 trainable params: 84\n",
            "Layer ahat_1 trainable params: 20784\n",
            "Layer ahat_2 trainable params: 83040\n",
            "Layer ahat_3 trainable params: 331968\n",
            "Layer ahat_4 trainable params: 331968\n",
            "Layer c_0 trainable params: 1542\n",
            "Layer c_1 trainable params: 103728\n",
            "Layer c_2 trainable params: 414816\n",
            "Layer c_3 trainable params: 1327296\n",
            "Layer c_4 trainable params: 995520\n",
            "Layer f_0 trainable params: 1542\n",
            "Layer f_1 trainable params: 103728\n",
            "Layer f_2 trainable params: 414816\n",
            "Layer f_3 trainable params: 1327296\n",
            "Layer f_4 trainable params: 995520\n",
            "Layer i_0 trainable params: 1542\n",
            "Layer i_1 trainable params: 103728\n",
            "Layer i_2 trainable params: 414816\n",
            "Layer i_3 trainable params: 1327296\n",
            "Layer i_4 trainable params: 995520\n",
            "Layer o_0 trainable params: 1542\n",
            "Layer o_1 trainable params: 103728\n",
            "Layer o_2 trainable params: 414816\n",
            "Layer o_3 trainable params: 1327296\n",
            "Layer o_4 trainable params: 995520\n",
            "PredNet trainable params: 13220844\n",
            "PredNet non-trainable params: 0\n",
            "Layer 0 shape: (256, 256, 3) (196608)\n",
            "Layer 1 shape: (128, 128, 48) (786432)\n",
            "Layer 2 shape: (64, 64, 96) (393216)\n",
            "Layer 3 shape: (32, 32, 192) (196608)\n",
            "Layer 4 shape: (16, 16, 192) (49152)\n",
            "Layer 0 shape: (256, 256, 3) (196608)\n",
            "Layer 1 shape: (128, 128, 48) (786432)\n",
            "Layer 2 shape: (64, 64, 96) (393216)\n",
            "Layer 3 shape: (32, 32, 192) (196608)\n",
            "Layer 4 shape: (16, 16, 192) (49152)\n",
            "Layer 0 shape: (256, 256, 3) (196608)\n",
            "Layer 1 shape: (128, 128, 48) (786432)\n",
            "Layer 2 shape: (64, 64, 96) (393216)\n",
            "Layer 3 shape: (32, 32, 192) (196608)\n",
            "Layer 4 shape: (16, 16, 192) (49152)\n",
            "Compiling model with loss weights:\n",
            " {'prednet_error': 0.9, 'rdm_prediction': 0.1}\n",
            "__________________________________________________________________________________________________\n",
            "Layer (type)                    Output Shape         Param #     Connected to                     \n",
            "==================================================================================================\n",
            "image_a (InputLayer)            (None, 10, 256, 256, 0                                            \n",
            "__________________________________________________________________________________________________\n",
            "image_b (InputLayer)            (None, 10, 256, 256, 0                                            \n",
            "__________________________________________________________________________________________________\n",
            "PredNet (Model)                 (None, 10, 1622021)  13220844    image_a[0][0]                    \n",
            "                                                                 image_b[0][0]                    \n",
            "__________________________________________________________________________________________________\n",
            "crop_error_a (Lambda)           (None, 10, 5)        0           PredNet[1][0]                    \n",
            "__________________________________________________________________________________________________\n",
            "crop_error_b (Lambda)           (None, 10, 5)        0           PredNet[2][0]                    \n",
            "__________________________________________________________________________________________________\n",
            "crop_rep_a (Lambda)             (None, 10, 1622016)  0           PredNet[1][0]                    \n",
            "__________________________________________________________________________________________________\n",
            "crop_rep_b (Lambda)             (None, 10, 1622016)  0           PredNet[2][0]                    \n",
            "__________________________________________________________________________________________________\n",
            "time_distributed_3 (TimeDistrib (None, 10, 1)        6           crop_error_a[0][0]               \n",
            "__________________________________________________________________________________________________\n",
            "time_distributed_4 (TimeDistrib (None, 10, 1)        6           crop_error_b[0][0]               \n",
            "__________________________________________________________________________________________________\n",
            "crop_last_rep_a (Lambda)        (None, 10, 49152)    0           crop_rep_a[0][0]                 \n",
            "__________________________________________________________________________________________________\n",
            "crop_last_rep_b (Lambda)        (None, 10, 49152)    0           crop_rep_b[0][0]                 \n",
            "__________________________________________________________________________________________________\n",
            "flatten_4 (Flatten)             (None, 10)           0           time_distributed_3[0][0]         \n",
            "__________________________________________________________________________________________________\n",
            "flatten_5 (Flatten)             (None, 10)           0           time_distributed_4[0][0]         \n",
            "__________________________________________________________________________________________________\n",
            "lstm (Model)                    (None, 32)           6295680     crop_last_rep_a[0][0]            \n",
            "                                                                 crop_last_rep_b[0][0]            \n",
            "__________________________________________________________________________________________________\n",
            "dense_6 (Dense)                 (None, 1)            11          flatten_4[0][0]                  \n",
            "__________________________________________________________________________________________________\n",
            "dense_8 (Dense)                 (None, 1)            11          flatten_5[0][0]                  \n",
            "__________________________________________________________________________________________________\n",
            "image_pair_representation (Conc (None, 64)           0           lstm[1][0]                       \n",
            "                                                                 lstm[2][0]                       \n",
            "__________________________________________________________________________________________________\n",
            "prednet_error (Average)         (None, 1)            0           dense_6[0][0]                    \n",
            "                                                                 dense_8[0][0]                    \n",
            "__________________________________________________________________________________________________\n",
            "rdm_prediction (Dense)          (None, 1)            65          image_pair_representation[0][0]  \n",
            "==================================================================================================\n",
            "Total params: 19,516,623\n",
            "Trainable params: 19,516,589\n",
            "Non-trainable params: 34\n",
            "__________________________________________________________________________________________________\n",
            "Epoch 1/1\n",
            "10000/10000 [==============================] - 14197s 1s/step - loss: 0.0166 - prednet_error_loss: 7.4810e-04 - rdm_prediction_loss: 0.1595 - prednet_error_mean_absolute_error: 7.4810e-04 - prednet_error_mean_squared_error: 6.7923e-07 - rdm_prediction_mean_absolute_error: 0.1595 - rdm_prediction_mean_squared_error: 0.0409 - val_loss: 0.0157 - val_prednet_error_loss: 3.9403e-04 - val_rdm_prediction_loss: 0.1536 - val_prednet_error_mean_absolute_error: 3.9403e-04 - val_prednet_error_mean_squared_error: 1.6486e-07 - val_rdm_prediction_mean_absolute_error: 0.1536 - val_rdm_prediction_mean_squared_error: 0.0382\n",
            "\n",
            "Epoch 00001: val_loss improved from inf to 0.01572, saving model to /content/results/prednet_random_meg_late_rdm_10000/weights.hdf5\n"
          ],
          "name": "stdout"
        }
      ]
    },
    {
      "cell_type": "code",
      "metadata": {
        "id": "Z401WVtjEhq4",
        "colab_type": "code",
        "colab": {}
      },
      "source": [
        "!cp -r ./results gdrive/My\\ Drive/prednet-finetuned-models-$(date +%Y-%m-%dT%H:%M:%S)"
      ],
      "execution_count": 0,
      "outputs": []
    }
  ]
}