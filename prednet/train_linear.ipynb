{
 "cells": [
  {
   "cell_type": "code",
   "execution_count": 1,
   "metadata": {},
   "outputs": [],
   "source": [
    "import glob\n",
    "import os\n",
    "import h5py\n",
    "import numpy as np\n",
    "import scipy.io as sio\n",
    "import pandas as pd\n",
    "from sklearn import svm\n",
    "from sklearn.model_selection import cross_val_score\n",
    "from sklearn.externals import joblib\n",
    "from sklearn.metrics import accuracy_score\n",
    "from sklearn.model_selection import train_test_split"
   ]
  },
  {
   "cell_type": "markdown",
   "metadata": {},
   "source": [
    "## Testing linear classifiers on top of PredNet representations"
   ]
  },
  {
   "cell_type": "code",
   "execution_count": 17,
   "metadata": {},
   "outputs": [
    {
     "data": {
      "text/plain": [
       "(135936,)"
      ]
     },
     "execution_count": 17,
     "metadata": {},
     "output_type": "execute_result"
    }
   ],
   "source": [
    "def get_features(feat_dir, layer_id, i):\n",
    "    \"\"\"\n",
    "    get activations of a particular DNN layer for a particular image\n",
    "\n",
    "    Input:\n",
    "    feat_dir: Directory containing activations generated using generate_features.py\n",
    "    layer_id: layer name\n",
    "    i: image index\n",
    "\n",
    "    Output:\n",
    "    flattened activations\n",
    "    \"\"\"\n",
    "    activations = glob.glob(feat_dir + \"/*\" + \".mat\")\n",
    "    activations.sort()\n",
    "    feat = sio.loadmat(activations[i])[layer_id]\n",
    "    return feat.ravel()\n",
    "\n",
    "feat = get_features('./prednet/feats/92images/prednet_moments__representation__4_layers_epoch_1/', 'rep_all', 0)\n",
    "feat.shape"
   ]
  },
  {
   "cell_type": "code",
   "execution_count": 29,
   "metadata": {},
   "outputs": [
    {
     "data": {
      "text/plain": [
       "((92, 135936), (92,))"
      ]
     },
     "execution_count": 29,
     "metadata": {},
     "output_type": "execute_result"
    }
   ],
   "source": [
    "labels = pd.read_csv('92_images.csv')\n",
    "\n",
    "# feature_dir = './prednet/feats/92images/prednet_kitti_finetuned_moments__representation__10c/'\n",
    "# feature_dir = './feats/92images_feats/alexnet/'\n",
    "feature_dir = './prednet/feats/92images/prednet_moments__representation__4_layers_epoch_1/'\n",
    "train_x = [get_features(feature_dir, 'rep_all', i) for i in range(len(labels))]\n",
    "train_x = np.array(train_x)\n",
    "train_y = np.array(labels.animate)\n",
    "\n",
    "train_x.shape, train_y.shape"
   ]
  },
  {
   "cell_type": "code",
   "execution_count": 30,
   "metadata": {},
   "outputs": [
    {
     "data": {
      "text/plain": [
       "(array([0.54166667, 0.65217391, 0.39130435, 0.63636364]), 0.555377140974967)"
      ]
     },
     "execution_count": 30,
     "metadata": {},
     "output_type": "execute_result"
    }
   ],
   "source": [
    "from sklearn.model_selection import StratifiedKFold\n",
    "from sklearn.preprocessing import StandardScaler\n",
    "from sklearn.decomposition import PCA\n",
    "\n",
    "#pca = PCA(n_components=45)\n",
    "#x_pca = pca.fit(train_x).transform(train_x)\n",
    "\n",
    "clf = svm.LinearSVC()\n",
    "scaler = StandardScaler()\n",
    "train_x_scaled = scaler.fit_transform(train_x)\n",
    "skf = StratifiedKFold(n_splits=4)\n",
    "scores = cross_val_score(clf, train_x_scaled, train_y, cv=skf)\n",
    "scores, scores.mean()"
   ]
  },
  {
   "cell_type": "code",
   "execution_count": 91,
   "metadata": {},
   "outputs": [
    {
     "data": {
      "text/plain": [
       "0.5108695652173914"
      ]
     },
     "execution_count": 91,
     "metadata": {},
     "output_type": "execute_result"
    }
   ],
   "source": [
    "len(labels[labels.animate == 1]) / len(labels)"
   ]
  },
  {
   "cell_type": "code",
   "execution_count": 15,
   "metadata": {},
   "outputs": [
    {
     "name": "stdout",
     "output_type": "stream",
     "text": [
      "Test acc: 0.510869565217\n"
     ]
    }
   ],
   "source": [
    "def evaluate(model_dir, data_x, data_y, model_type='linear'):\n",
    "    \n",
    "    # load model\n",
    "    model_path = os.path.join(model_dir, model_type + '.pkl')\n",
    "    model = joblib.load(model_path)\n",
    "    \n",
    "    scaler_path = os.path.join(model_dir, model_type + '_scaler.pkl')\n",
    "    scaler = None\n",
    "    if os.path.exists(scaler_path):\n",
    "        scaler = joblib.load(scaler_path)\n",
    "    \n",
    "    preds = model.predict(data_x)\n",
    "    acc = accuracy_score(data_y, preds)\n",
    "    metric_str = 'acc: {}'.format(acc)\n",
    "        \n",
    "    print('Test {}'.format(metric_str))\n",
    "    #f = open(os.path.join(results_dir, 'test.txt'), 'w')\n",
    "    #f.write('Test results:\\n')\n",
    "    #f.write(metric_str)\n",
    "    #f.close()\n",
    "    \n",
    "classifier_path = './classifier/models/linear__prednet_kitti_finetuned_moments_10c__2c_easy/'\n",
    "evaluate(classifier_path, train_x, train_y)"
   ]
  }
 ],
 "metadata": {
  "kernelspec": {
   "display_name": "Python [conda env:prednet]",
   "language": "python",
   "name": "conda-env-prednet-py"
  },
  "language_info": {
   "codemirror_mode": {
    "name": "ipython",
    "version": 2
   },
   "file_extension": ".py",
   "mimetype": "text/x-python",
   "name": "python",
   "nbconvert_exporter": "python",
   "pygments_lexer": "ipython2",
   "version": "2.7.3"
  }
 },
 "nbformat": 4,
 "nbformat_minor": 2
}
